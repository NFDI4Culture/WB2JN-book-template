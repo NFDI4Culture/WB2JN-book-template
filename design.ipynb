{
 "cells": [
  {
   "cell_type": "code",
   "execution_count": 2,
   "id": "22a18f74",
   "metadata": {},
   "outputs": [],
   "source": [
    "import pandas as pd\n",
    "import numpy as np\n",
    "import matplotlib.pyplot as plt\n",
    "import seaborn as sns\n",
    "from datetime import datetime, timedelta\n",
    "import warnings\n",
    "warnings.filterwarnings('ignore')\n",
    "\n",
    "# Set plotting style\n",
    "plt.style.use('seaborn-v0_8')\n",
    "sns.set_palette(\"husl\")"
   ]
  },
  {
   "cell_type": "code",
   "execution_count": null,
   "id": "bc30ab2b",
   "metadata": {},
   "outputs": [],
   "source": [
    "# Create subplots\n",
    "fig, axes = plt.subplots(2, 2, figsize=(12, 10))\n",
    "fig.suptitle('Data Analysis Dashboard', fontsize=16)\n",
    "\n",
    "# Plot 1: Histogram\n",
    "axes[0,0].hist(df['column_name'], bins=30, alpha=0.7)\n",
    "axes[0,0].set_title('Distribution')\n",
    "\n",
    "# Plot 2: Scatter plot\n",
    "axes[0,1].scatter(df['x_col'], df['y_col'], alpha=0.6)\n",
    "axes[0,1].set_title('Correlation')\n",
    "\n",
    "# Plot 3: Line plot\n",
    "axes[1,0].plot(df['date'], df['value'])\n",
    "axes[1,0].set_title('Time Series')\n",
    "\n",
    "# Plot 4: Box plot\n",
    "axes[1,1].boxplot(df['column_name'])\n",
    "axes[1,1].set_title('Box Plot')\n",
    "\n",
    "plt.tight_layout()\n",
    "plt.show()"
   ]
  },
  {
   "cell_type": "code",
   "execution_count": 3,
   "id": "2e023da5",
   "metadata": {},
   "outputs": [
    {
     "data": {
      "text/html": [
       "\n",
       "<style>\n",
       ".dataframe {\n",
       "    font-family: Arial, sans-serif;\n",
       "    border-collapse: collapse;\n",
       "    margin: 25px 0;\n",
       "    font-size: 0.9em;\n",
       "    min-width: 400px;\n",
       "    border-radius: 5px 5px 0 0;\n",
       "    overflow: hidden;\n",
       "}\n",
       "\n",
       ".dataframe thead tr {\n",
       "    background-color: #009879;\n",
       "    color: #ffffff;\n",
       "    text-align: left;\n",
       "}\n",
       "\n",
       ".dataframe th,\n",
       ".dataframe td {\n",
       "    padding: 12px 15px;\n",
       "}\n",
       "\n",
       ".dataframe tbody tr {\n",
       "    border-bottom: 1px solid #dddddd;\n",
       "}\n",
       "\n",
       ".dataframe tbody tr:nth-of-type(even) {\n",
       "    background-color: #f3f3f3;\n",
       "}\n",
       "</style>\n"
      ],
      "text/plain": [
       "<IPython.core.display.HTML object>"
      ]
     },
     "execution_count": 3,
     "metadata": {},
     "output_type": "execute_result"
    }
   ],
   "source": [
    "from IPython.core.display import HTML\n",
    "\n",
    "# Custom CSS for better table display\n",
    "HTML(\"\"\"\n",
    "<style>\n",
    ".dataframe {\n",
    "    font-family: Arial, sans-serif;\n",
    "    border-collapse: collapse;\n",
    "    margin: 25px 0;\n",
    "    font-size: 0.9em;\n",
    "    min-width: 400px;\n",
    "    border-radius: 5px 5px 0 0;\n",
    "    overflow: hidden;\n",
    "}\n",
    "\n",
    ".dataframe thead tr {\n",
    "    background-color: #009879;\n",
    "    color: #ffffff;\n",
    "    text-align: left;\n",
    "}\n",
    "\n",
    ".dataframe th,\n",
    ".dataframe td {\n",
    "    padding: 12px 15px;\n",
    "}\n",
    "\n",
    ".dataframe tbody tr {\n",
    "    border-bottom: 1px solid #dddddd;\n",
    "}\n",
    "\n",
    ".dataframe tbody tr:nth-of-type(even) {\n",
    "    background-color: #f3f3f3;\n",
    "}\n",
    "</style>\n",
    "\"\"\")"
   ]
  },
  {
   "cell_type": "markdown",
   "id": "f3e792c7",
   "metadata": {},
   "source": [
    "hello"
   ]
  }
 ],
 "metadata": {
  "kernelspec": {
   "display_name": "Python 3",
   "language": "python",
   "name": "python3"
  },
  "language_info": {
   "codemirror_mode": {
    "name": "ipython",
    "version": 3
   },
   "file_extension": ".py",
   "mimetype": "text/x-python",
   "name": "python",
   "nbconvert_exporter": "python",
   "pygments_lexer": "ipython3",
   "version": "3.11.9"
  }
 },
 "nbformat": 4,
 "nbformat_minor": 5
}
